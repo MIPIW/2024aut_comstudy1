{
 "cells": [
  {
   "cell_type": "code",
   "execution_count": 36,
   "metadata": {},
   "outputs": [
    {
     "data": {
      "text/plain": [
       "(5527409, 15.417394991347436)"
      ]
     },
     "execution_count": 36,
     "metadata": {},
     "output_type": "execute_result"
    }
   ],
   "source": [
    "import pandas as pd, json, os, math\n",
    "from pathlib import Path\n",
    "import re\n",
    "from collections import Counter\n",
    "\n",
    "mother_path = \"/home/hyohyeongjang/2024aut_comstudy1/data\"\n",
    "test1ing_data = \"NLRW1900000011.json\"\n",
    "test_data1 = \"NLRW1900000020.json\"\n",
    "test_data2 = \"WARW1900003745.json\"\n",
    "\n",
    "def extract_form(mother_path, data_path):\n",
    "    \n",
    "    korean = re.compile(r\"[가-힣]\")\n",
    "    with open(f\"{mother_path}/{data_path}\", \"r\") as f:\n",
    "        x = json.load(f)\n",
    "\n",
    "    # extract form\n",
    "    forms = [k['form'] for j in [i['paragraph'] for i in x['document']] for k in j]\n",
    "    \n",
    "    # extract only korean characters\n",
    "    return [re.sub(r\"[^가-힣\\s]\", \"\", i) for i in forms]\n",
    "\n",
    "# list of sentences\n",
    "train_sent = extract_form(mother_path, training_data)\n",
    "test_sent1 = extract_form(mother_path, test_data1)\n",
    "test_sent2 = extract_form(mother_path, test_data2)\n"
   ]
  },
  {
   "cell_type": "code",
   "execution_count": 47,
   "metadata": {},
   "outputs": [],
   "source": [
    "def get_uni(chars):\n",
    "    \n",
    "    # unilst and count\n",
    "    uni = [j for k in chars for j in k]\n",
    "    uni_counter = Counter(uni)\n",
    "\n",
    "    return uni_counter\n",
    "\n",
    "def get_bi(chars):\n",
    "\n",
    "    # make bigram and unlist and count\n",
    "    bi = [[i+j for i, j in zip(k, k[1:])] for k in chars]\n",
    "    bi = [j for k in bi for j in k]\n",
    "    bi_counter = Counter(bi)\n",
    "    \n",
    "    return bi_counter\n",
    "\n",
    "def get_tri(chars):\n",
    "\n",
    "    # make trigran, unlist, count\n",
    "    tri = [[i+j+l for i, j, l in zip(k, k[1:], k[2:])] for k in char]\n",
    "    tri = [j for k in tri for j in k]\n",
    "    tri_counter = Counter(tri)\n",
    "\n",
    "    return tri_counter\n",
    "\n",
    "## unigram, bigram, trigram for training_data\n",
    "# split sentence by syllables\n",
    "char_test1 = [list(i) for i in train_sent]\n",
    "char_test1 = [list(i) for i in test_sent1]\n",
    "char_test2 = [list(i) for i in test_sent2]\n",
    "\n",
    "uni_counter_train = get_uni(char_train)\n",
    "bi_counter_train = get_bi(char_train)\n",
    "tri_counter_train = get_tri(char_train)\n",
    "\n",
    "uni_counter_test1 = get_uni(char_test1)\n",
    "bi_counter_test1 = get_bi(char_test1)\n",
    "tri_counter_test1 = get_tri(char_test1)\n",
    "\n",
    "uni_counter_test2 = get_uni(char_test2)\n",
    "bi_counter_test2 = get_bi(char_test2)\n",
    "tri_counter_test2 = get_tri(char_test2)\n"
   ]
  },
  {
   "cell_type": "code",
   "execution_count": 49,
   "metadata": {},
   "outputs": [],
   "source": [
    "\n",
    "def get_stats(counter):\n",
    "\n",
    "    tot_count = sum([counter[key] for key in counter])\n",
    "    prob = {key: counter[key] / tot_count for key in counter}\n",
    "    E = sum([-prob[key] * math.log2(prob[key]) for key in prob])\n",
    "\n",
    "    return prob, E\n",
    "\n",
    "uni_prob_train, uni_E_train = get_stats(uni_counter_train)\n",
    "bi_prob_train, bi_E_train = get_stats(bi_counter_train)\n",
    "tri_prob_train, tri_E_train = get_stats(tri_counter_train)\n",
    "\n",
    "_, uni_E_test1 = get_stats(uni_counter_test1)\n",
    "_, bi_E_test1 = get_stats(bi_counter_test1)\n",
    "_, tri_E_test1 = get_stats(tri_counter_test1)\n",
    "\n",
    "_, uni_E_test2 = get_stats(uni_counter_test2)\n",
    "_, bi_E_test2 = get_stats(bi_counter_test2)\n",
    "_, tri_E_test2 = get_stats(tri_counter_test2)\n",
    "\n"
   ]
  },
  {
   "cell_type": "code",
   "execution_count": 69,
   "metadata": {},
   "outputs": [],
   "source": [
    "def get_CE_stats(counter, gold_probs):\n",
    "\n",
    "    # add-1 smoothing\n",
    "    not_existing_keys = set(gold_probs.keys()) - set(counter.keys())\n",
    "    for i in not_existing_keys:\n",
    "        counter[i] = 1\n",
    "    tot_count = sum([counter[key] for key in counter])\n",
    "    \n",
    "    prob = {key: counter[key] / tot_count for key in counter}\n",
    "    CE = sum([-gold_probs.get(key, 0) * math.log2(prob[key]) for key in prob])\n",
    "\n",
    "    return CE\n",
    "    \n",
    "uni_CE_train = get_CE_stats(uni_counter_train, uni_prob_train)\n",
    "bi_CE_train = get_CE_stats(bi_counter_train, bi_prob_train)\n",
    "tri_CE_train = get_CE_stats(tri_counter_train, tri_prob_train)\n",
    "\n",
    "uni_CE_test1 = get_CE_stats(uni_counter_test1, uni_prob_train)\n",
    "bi_CE_test1 = get_CE_stats(bi_counter_test1, bi_prob_train)\n",
    "tri_CE_test1 = get_CE_stats(tri_counter_test1, tri_prob_train)\n",
    "\n",
    "uni_CE_test2 = get_CE_stats(uni_counter_test2, uni_prob_train)\n",
    "bi_CE_test2 = get_CE_stats(bi_counter_test2, bi_prob_train)\n",
    "tri_CE_test2 = get_CE_stats(tri_counter_test2, tri_prob_train)"
   ]
  },
  {
   "cell_type": "code",
   "execution_count": 85,
   "metadata": {},
   "outputs": [
    {
     "name": "stdout",
     "output_type": "stream",
     "text": [
      "\n",
      "\t\t\t\tEntropy\t\t\tCross-entropoy\t\tDifference\n",
      "training_data\tunigram\t\t6.898936302224395\t6.898936302224395\t0.0\n",
      "\t\tbigram\t\t11.790961373288066\t11.790961373288066\t0.0\n",
      "\t\ttrigram\t\t15.417394991347436\t15.417394991347436\t0.0\n",
      "\n",
      "test_data\tunigram\t\t6.914437314870924\t6.930033575129791\t0.015596260258866401\n",
      "\t\tbigram\t\t11.689952196046649\t12.022411853262458\t0.33245965721580895\n",
      "\t\ttrigram\t\t15.417394991347436\t15.417394991347436\t0.0\n",
      "\n",
      "test_data2\tunigram\t\t6.731913420946825\t7.451821905575859\t0.719908484629034\n",
      "\t\tbigram\t\t11.063790641412984\t13.525015586860407\t2.461224945447423\n",
      "\t\ttrigram\t\t15.417394991347436\t15.417394991347436\t0.0\n",
      "\n"
     ]
    }
   ],
   "source": [
    "#print result\n",
    "\n",
    "print(\n",
    "f\"\"\"\n",
    "\\t\\t\\t\\tEntropy\\t\\t\\tCross-entropoy\\t\\tDifference\n",
    "training_data\\tunigram\\t\\t{uni_E_train}\\t{uni_CE_train}\\t{uni_CE_train - uni_E_train}\n",
    "\\t\\tbigram\\t\\t{bi_E_train}\\t{bi_CE_train}\\t{bi_CE_train - bi_E_train}\n",
    "\\t\\ttrigram\\t\\t{tri_E_train}\\t{tri_CE_train}\\t{tri_CE_train - tri_E_train}\n",
    "\n",
    "test_data\\tunigram\\t\\t{uni_E_test1}\\t{uni_CE_test1}\\t{uni_CE_test1 - uni_E_test1}\n",
    "\\t\\tbigram\\t\\t{bi_E_test1}\\t{bi_CE_test1}\\t{bi_CE_test1 - bi_E_test1}\n",
    "\\t\\ttrigram\\t\\t{tri_E_test1}\\t{tri_CE_test1}\\t{tri_CE_test1 -tri_E_test1}\n",
    "\n",
    "test_data2\\tunigram\\t\\t{uni_E_test2}\\t{uni_CE_test2}\\t{uni_CE_test2 - uni_E_test2}\n",
    "\\t\\tbigram\\t\\t{bi_E_test2}\\t{bi_CE_test2}\\t{bi_CE_test2 - bi_E_test2}\n",
    "\\t\\ttrigram\\t\\t{tri_E_test2}\\t{tri_CE_test2}\\t{tri_CE_test2 - tri_E_test2}\n",
    "\"\"\"\n",
    ")\n"
   ]
  },
  {
   "cell_type": "code",
   "execution_count": null,
   "metadata": {},
   "outputs": [],
   "source": []
  }
 ],
 "metadata": {
  "kernelspec": {
   "display_name": "base",
   "language": "python",
   "name": "base"
  },
  "language_info": {
   "codemirror_mode": {
    "name": "ipython",
    "version": 3
   },
   "file_extension": ".py",
   "mimetype": "text/x-python",
   "name": "python",
   "nbconvert_exporter": "python",
   "pygments_lexer": "ipython3",
   "version": "3.9.18"
  }
 },
 "nbformat": 4,
 "nbformat_minor": 2
}
